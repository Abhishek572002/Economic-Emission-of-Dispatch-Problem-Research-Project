{
 "cells": [
  {
   "cell_type": "code",
   "execution_count": 1,
   "id": "5fdec003",
   "metadata": {},
   "outputs": [],
   "source": [
    "import pandas as pd\n",
    "import numpy as np"
   ]
  },
  {
   "cell_type": "code",
   "execution_count": 5,
   "id": "26f86f7d",
   "metadata": {
    "scrolled": false
   },
   "outputs": [
    {
     "name": "stdout",
     "output_type": "stream",
     "text": [
      "Enter the value of lambda: 2\n",
      "enter demand load: 1000\n"
     ]
    }
   ],
   "source": [
    "n=3\n",
    "a=np.array([0.06,0.065,0.07], dtype=float)\n",
    "b=np.array([7.3,5.5,6.8], dtype=float)\n",
    "c=np.array([700,500,300], dtype=float)\n",
    "pmin=np.array([200,150,100], dtype=float)\n",
    "pmax=np.array([450,350,225], dtype=float)\n",
    "lam=float(input('Enter the value of lambda: '))\n",
    "p=np.zeros(n)\n",
    "dem=float(input('enter demand load: '))\n",
    "dp=float(10)\n",
    "e=.0001"
   ]
  },
  {
   "cell_type": "code",
   "execution_count": 3,
   "id": "53c0405e",
   "metadata": {},
   "outputs": [],
   "source": [
    "it=0\n",
    "while abs(dp)>e:\n",
    "    tot=0\n",
    "    for i in range(n):\n",
    "        p[i]=(lam-b[i])/(2*a[i])\n",
    "        if p[i]>pmax[i]:\n",
    "            p[i]=pmax[i]\n",
    "        elif p[i]<pmin[i]:\n",
    "            p[i]=pmin[i]\n",
    "        tot=tot+a[i]*p[i]*p[i]+b[i]*p[i]+c[i]\n",
    "    dp=(dem-np.sum(p))/dem\n",
    "    if abs(dp)>0:\n",
    "        t=0\n",
    "        for j in range(n):\n",
    "            t=t+(1/2*a[j])\n",
    "    lam=lam+dp/t\n",
    "    it=it+1\n"
   ]
  },
  {
   "cell_type": "code",
   "execution_count": 6,
   "id": "5159a12c",
   "metadata": {},
   "outputs": [],
   "source": [
    "L=np.zeros((n,),dtype=float)\n",
    "dL=np.zeros((n+1,),dtype=float)\n",
    "H=np.zeros((n+1,n+1),dtype=float)\n",
    "dP=0\n",
    "tot=0\n",
    "ps=0\n",
    "for i in range(n):\n",
    "    ps=ps+p[i]\n",
    "    t=2*a[i]*p[i]\n",
    "    L[i]=b[i]+t\n",
    "    dL[i]=L[i]-lam\n",
    "    H[i][i]=2*a[i]\n",
    "    H[i][n]=-1\n",
    "    H[n][i]=-1\n",
    "dL[n]=dem-ps\n",
    "M=np.linalg.inv(H)\n",
    "dP=-np.matmul(M,dL)\n",
    "for i in range(n):\n",
    "    p[i]=p[i]+dP[i]\n",
    "    tot=tot+c[i]+b[i]*p[i]+a[i]*p[i]*p[i]\n",
    "    \n"
   ]
  },
  {
   "cell_type": "code",
   "execution_count": 7,
   "id": "835f068e",
   "metadata": {},
   "outputs": [
    {
     "name": "stdout",
     "output_type": "stream",
     "text": [
      "For generator: 0 power: 353.41897233201576 cost: 29622.441699604737 iterations(Only for Lambda-iteration): 88\n",
      "For generator: 1 power: 340.07905138339925 cost: 29622.441699604737 iterations(Only for Lambda-iteration): 88\n",
      "For generator: 2 power: 306.50197628458494 cost: 29622.441699604737 iterations(Only for Lambda-iteration): 88\n"
     ]
    }
   ],
   "source": [
    "for i in range(n):\n",
    "    print(f'For generator: {i} power: {p[i]} cost: {tot} iterations(Only for Lambda-iteration): {it}')\n"
   ]
  }
 ],
 "metadata": {
  "kernelspec": {
   "display_name": "Python 3",
   "language": "python",
   "name": "python3"
  },
  "language_info": {
   "codemirror_mode": {
    "name": "ipython",
    "version": 3
   },
   "file_extension": ".py",
   "mimetype": "text/x-python",
   "name": "python",
   "nbconvert_exporter": "python",
   "pygments_lexer": "ipython3",
   "version": "3.8.8"
  }
 },
 "nbformat": 4,
 "nbformat_minor": 5
}
